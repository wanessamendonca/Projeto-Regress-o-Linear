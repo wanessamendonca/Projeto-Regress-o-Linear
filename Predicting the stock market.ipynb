{
  "nbformat": 4,
  "nbformat_minor": 0,
  "metadata": {
    "colab": {
      "name": "Predicting the stock market.ipynb",
      "provenance": [],
      "collapsed_sections": []
    },
    "kernelspec": {
      "name": "python3",
      "display_name": "Python 3"
    },
    "language_info": {
      "name": "python"
    }
  },
  "cells": [
    {
      "cell_type": "markdown",
      "source": [
        "# **Projeto Guiado: Previsões Sobre o Mercado de Ações** 📈\n",
        "\n",
        "Este projeto possui como principal objetivo a avaliação de dados referentes ao índice *Standard and Poor's 500* (S&P500), um popular indexador internacional no mercado de ações. \n",
        "\n",
        "O S&P500 reúne os preços de ações das 500 maiores empresas do mundo presentes nas principais bolsas de valores dos Estados Unidos: NYSE e Nasdaq. Como um indexador, este parâmetro pode ser consultado para se obter informações sobre o desempenho do mercado de ações nos EUA e sobre as reações dos investidores diante de mudanças na economia, nos negócios ou até mesmo no cenário da política internacional. \n",
        "\n",
        "A partir dos dados sobre o S&P500 é possível avaliar se um investimento na bolsa tem acompanhado este índice ou até mesmo superado o seu valor, se consolidando como um ativo de alta qualidade. Alguns compradores optam por investir em [fundos de investimento](https://www.infomoney.com.br/guias/etf-exchange-traded-fund/) (*Exchange Traded Funds* ou ETFs) que podem estar atrelados a um índice de referência como o S&P500.\n",
        "\n",
        "Este índice foi criado na década de 1920, sendo composto inicialmente por 90 ações, chegando a agregar 500 empresas somente em 1957.\n",
        "\n",
        "Maiores informações sobre a história e sobre os critérios para que uma empresa esteja listada no índice S&P500 podem ser encontrados [aqui](https://conteudos.xpi.com.br/aprenda-a-investir/relatorios/o-que-e-sp-500-saiba-a-importancia-do-indice-mais-famoso-do-mundo/).\n",
        "\n",
        "A construção de modelos de previsão ligados a índices do mercado financeiro auxilia justamente no entendimento sobre a performance do mercado como um todo diante de cenários futuros, com base em dados do passado.\n",
        "\n",
        "--------------------------------------------------------------------------------\n",
        "\n",
        "<font color='red'>**Nota:**</font> O modelo desenvolvido neste projeto não deve ser utilizado para a negociação de ações ligadas ao índice S&P500. Este projeto não possui como objetivo servir como um aconselhador acerca do mercado de ações.\n",
        "\n",
        "\n",
        "\n",
        "\n",
        "\n"
      ],
      "metadata": {
        "id": "7Q6Aw3-m6NAi"
      }
    },
    {
      "cell_type": "markdown",
      "source": [
        "## **Importação de Bibliotecas** 🧰"
      ],
      "metadata": {
        "id": "K9rFxG02Uzgv"
      }
    },
    {
      "cell_type": "code",
      "source": [
        "import pandas as pd \n",
        "import numpy as np \n",
        "from sklearn.linear_model import LinearRegression \n",
        "from sklearn.tree import DecisionTreeRegressor\n",
        "from sklearn.metrics import mean_squared_error, r2_score\n",
        "import matplotlib.pyplot as plt\n",
        "import datetime as dt"
      ],
      "metadata": {
        "id": "TxlsrNiGU7mW"
      },
      "execution_count": 1,
      "outputs": []
    },
    {
      "cell_type": "markdown",
      "source": [
        "## **Importação do Arquivo** 📂"
      ],
      "metadata": {
        "id": "U9NioykiU_4b"
      }
    },
    {
      "cell_type": "code",
      "source": [
        "from google.colab import files\n",
        "data_to_load = files.upload()"
      ],
      "metadata": {
        "colab": {
          "resources": {
            "http://localhost:8080/nbextensions/google.colab/files.js": {
              "data": "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",
              "ok": true,
              "headers": [
                [
                  "content-type",
                  "application/javascript"
                ]
              ],
              "status": 200,
              "status_text": ""
            }
          },
          "base_uri": "https://localhost:8080/",
          "height": 73
        },
        "id": "S_2kH73MVFge",
        "outputId": "6101c542-401f-4108-875c-10db4d41878d"
      },
      "execution_count": 2,
      "outputs": [
        {
          "output_type": "display_data",
          "data": {
            "text/html": [
              "\n",
              "     <input type=\"file\" id=\"files-2cd7e605-7be6-4e00-bc15-ec16bd6bbd9a\" name=\"files[]\" multiple disabled\n",
              "        style=\"border:none\" />\n",
              "     <output id=\"result-2cd7e605-7be6-4e00-bc15-ec16bd6bbd9a\">\n",
              "      Upload widget is only available when the cell has been executed in the\n",
              "      current browser session. Please rerun this cell to enable.\n",
              "      </output>\n",
              "      <script src=\"/nbextensions/google.colab/files.js\"></script> "
            ],
            "text/plain": [
              "<IPython.core.display.HTML object>"
            ]
          },
          "metadata": {}
        },
        {
          "output_type": "stream",
          "name": "stdout",
          "text": [
            "Saving sphist.csv to sphist.csv\n"
          ]
        }
      ]
    },
    {
      "cell_type": "code",
      "source": [
        "import io \n",
        "df = pd.read_csv(io.BytesIO(data_to_load['sphist.csv']))"
      ],
      "metadata": {
        "id": "wLQsWeF8VZrK"
      },
      "execution_count": 3,
      "outputs": []
    },
    {
      "cell_type": "markdown",
      "source": [
        "## **Dicionário de Dados** 📘"
      ],
      "metadata": {
        "id": "oGrUiTCiV2-F"
      }
    },
    {
      "cell_type": "markdown",
      "source": [
        "- `Date` - Data de registro;\n",
        "- `Open` - Preço do índice no início do dia (quando as negociações se iniciam);\n",
        "- `High` - O maior preço registrado para o índice no dia;\n",
        "- `Low` -  O menor preço registrado para o índice no dia;\n",
        "- `Close` - Preço do índice no final do dia (quando as negociações se encerram);\n",
        "- `Volume` - O número de ações negociadas ao longo do dia;\n",
        "- `Adj Close` - Preço diário de fechamento, ajustado retroativamente para comportar qualquer ação corporativa. "
      ],
      "metadata": {
        "id": "38NA4mzLV8W5"
      }
    },
    {
      "cell_type": "markdown",
      "source": [
        "## **Leitura Inicial dos Dados** 🔍"
      ],
      "metadata": {
        "id": "AsnkCz-JZbjW"
      }
    },
    {
      "cell_type": "code",
      "source": [
        "df.head()"
      ],
      "metadata": {
        "colab": {
          "base_uri": "https://localhost:8080/",
          "height": 206
        },
        "id": "mpI4VgdAZg7O",
        "outputId": "30ccd153-99d4-41a8-fad1-7b45b9ae9bc3"
      },
      "execution_count": 4,
      "outputs": [
        {
          "output_type": "execute_result",
          "data": {
            "text/html": [
              "\n",
              "  <div id=\"df-8ba67263-7a42-4682-8bcf-87f6b06de827\">\n",
              "    <div class=\"colab-df-container\">\n",
              "      <div>\n",
              "<style scoped>\n",
              "    .dataframe tbody tr th:only-of-type {\n",
              "        vertical-align: middle;\n",
              "    }\n",
              "\n",
              "    .dataframe tbody tr th {\n",
              "        vertical-align: top;\n",
              "    }\n",
              "\n",
              "    .dataframe thead th {\n",
              "        text-align: right;\n",
              "    }\n",
              "</style>\n",
              "<table border=\"1\" class=\"dataframe\">\n",
              "  <thead>\n",
              "    <tr style=\"text-align: right;\">\n",
              "      <th></th>\n",
              "      <th>Date</th>\n",
              "      <th>Open</th>\n",
              "      <th>High</th>\n",
              "      <th>Low</th>\n",
              "      <th>Close</th>\n",
              "      <th>Volume</th>\n",
              "      <th>Adj Close</th>\n",
              "    </tr>\n",
              "  </thead>\n",
              "  <tbody>\n",
              "    <tr>\n",
              "      <th>0</th>\n",
              "      <td>2015-12-07</td>\n",
              "      <td>2090.419922</td>\n",
              "      <td>2090.419922</td>\n",
              "      <td>2066.780029</td>\n",
              "      <td>2077.070068</td>\n",
              "      <td>4.043820e+09</td>\n",
              "      <td>2077.070068</td>\n",
              "    </tr>\n",
              "    <tr>\n",
              "      <th>1</th>\n",
              "      <td>2015-12-04</td>\n",
              "      <td>2051.239990</td>\n",
              "      <td>2093.840088</td>\n",
              "      <td>2051.239990</td>\n",
              "      <td>2091.689941</td>\n",
              "      <td>4.214910e+09</td>\n",
              "      <td>2091.689941</td>\n",
              "    </tr>\n",
              "    <tr>\n",
              "      <th>2</th>\n",
              "      <td>2015-12-03</td>\n",
              "      <td>2080.709961</td>\n",
              "      <td>2085.000000</td>\n",
              "      <td>2042.349976</td>\n",
              "      <td>2049.620117</td>\n",
              "      <td>4.306490e+09</td>\n",
              "      <td>2049.620117</td>\n",
              "    </tr>\n",
              "    <tr>\n",
              "      <th>3</th>\n",
              "      <td>2015-12-02</td>\n",
              "      <td>2101.709961</td>\n",
              "      <td>2104.270020</td>\n",
              "      <td>2077.110107</td>\n",
              "      <td>2079.510010</td>\n",
              "      <td>3.950640e+09</td>\n",
              "      <td>2079.510010</td>\n",
              "    </tr>\n",
              "    <tr>\n",
              "      <th>4</th>\n",
              "      <td>2015-12-01</td>\n",
              "      <td>2082.929932</td>\n",
              "      <td>2103.370117</td>\n",
              "      <td>2082.929932</td>\n",
              "      <td>2102.629883</td>\n",
              "      <td>3.712120e+09</td>\n",
              "      <td>2102.629883</td>\n",
              "    </tr>\n",
              "  </tbody>\n",
              "</table>\n",
              "</div>\n",
              "      <button class=\"colab-df-convert\" onclick=\"convertToInteractive('df-8ba67263-7a42-4682-8bcf-87f6b06de827')\"\n",
              "              title=\"Convert this dataframe to an interactive table.\"\n",
              "              style=\"display:none;\">\n",
              "        \n",
              "  <svg xmlns=\"http://www.w3.org/2000/svg\" height=\"24px\"viewBox=\"0 0 24 24\"\n",
              "       width=\"24px\">\n",
              "    <path d=\"M0 0h24v24H0V0z\" fill=\"none\"/>\n",
              "    <path d=\"M18.56 5.44l.94 2.06.94-2.06 2.06-.94-2.06-.94-.94-2.06-.94 2.06-2.06.94zm-11 1L8.5 8.5l.94-2.06 2.06-.94-2.06-.94L8.5 2.5l-.94 2.06-2.06.94zm10 10l.94 2.06.94-2.06 2.06-.94-2.06-.94-.94-2.06-.94 2.06-2.06.94z\"/><path d=\"M17.41 7.96l-1.37-1.37c-.4-.4-.92-.59-1.43-.59-.52 0-1.04.2-1.43.59L10.3 9.45l-7.72 7.72c-.78.78-.78 2.05 0 2.83L4 21.41c.39.39.9.59 1.41.59.51 0 1.02-.2 1.41-.59l7.78-7.78 2.81-2.81c.8-.78.8-2.07 0-2.86zM5.41 20L4 18.59l7.72-7.72 1.47 1.35L5.41 20z\"/>\n",
              "  </svg>\n",
              "      </button>\n",
              "      \n",
              "  <style>\n",
              "    .colab-df-container {\n",
              "      display:flex;\n",
              "      flex-wrap:wrap;\n",
              "      gap: 12px;\n",
              "    }\n",
              "\n",
              "    .colab-df-convert {\n",
              "      background-color: #E8F0FE;\n",
              "      border: none;\n",
              "      border-radius: 50%;\n",
              "      cursor: pointer;\n",
              "      display: none;\n",
              "      fill: #1967D2;\n",
              "      height: 32px;\n",
              "      padding: 0 0 0 0;\n",
              "      width: 32px;\n",
              "    }\n",
              "\n",
              "    .colab-df-convert:hover {\n",
              "      background-color: #E2EBFA;\n",
              "      box-shadow: 0px 1px 2px rgba(60, 64, 67, 0.3), 0px 1px 3px 1px rgba(60, 64, 67, 0.15);\n",
              "      fill: #174EA6;\n",
              "    }\n",
              "\n",
              "    [theme=dark] .colab-df-convert {\n",
              "      background-color: #3B4455;\n",
              "      fill: #D2E3FC;\n",
              "    }\n",
              "\n",
              "    [theme=dark] .colab-df-convert:hover {\n",
              "      background-color: #434B5C;\n",
              "      box-shadow: 0px 1px 3px 1px rgba(0, 0, 0, 0.15);\n",
              "      filter: drop-shadow(0px 1px 2px rgba(0, 0, 0, 0.3));\n",
              "      fill: #FFFFFF;\n",
              "    }\n",
              "  </style>\n",
              "\n",
              "      <script>\n",
              "        const buttonEl =\n",
              "          document.querySelector('#df-8ba67263-7a42-4682-8bcf-87f6b06de827 button.colab-df-convert');\n",
              "        buttonEl.style.display =\n",
              "          google.colab.kernel.accessAllowed ? 'block' : 'none';\n",
              "\n",
              "        async function convertToInteractive(key) {\n",
              "          const element = document.querySelector('#df-8ba67263-7a42-4682-8bcf-87f6b06de827');\n",
              "          const dataTable =\n",
              "            await google.colab.kernel.invokeFunction('convertToInteractive',\n",
              "                                                     [key], {});\n",
              "          if (!dataTable) return;\n",
              "\n",
              "          const docLinkHtml = 'Like what you see? Visit the ' +\n",
              "            '<a target=\"_blank\" href=https://colab.research.google.com/notebooks/data_table.ipynb>data table notebook</a>'\n",
              "            + ' to learn more about interactive tables.';\n",
              "          element.innerHTML = '';\n",
              "          dataTable['output_type'] = 'display_data';\n",
              "          await google.colab.output.renderOutput(dataTable, element);\n",
              "          const docLink = document.createElement('div');\n",
              "          docLink.innerHTML = docLinkHtml;\n",
              "          element.appendChild(docLink);\n",
              "        }\n",
              "      </script>\n",
              "    </div>\n",
              "  </div>\n",
              "  "
            ],
            "text/plain": [
              "         Date         Open         High  ...        Close        Volume    Adj Close\n",
              "0  2015-12-07  2090.419922  2090.419922  ...  2077.070068  4.043820e+09  2077.070068\n",
              "1  2015-12-04  2051.239990  2093.840088  ...  2091.689941  4.214910e+09  2091.689941\n",
              "2  2015-12-03  2080.709961  2085.000000  ...  2049.620117  4.306490e+09  2049.620117\n",
              "3  2015-12-02  2101.709961  2104.270020  ...  2079.510010  3.950640e+09  2079.510010\n",
              "4  2015-12-01  2082.929932  2103.370117  ...  2102.629883  3.712120e+09  2102.629883\n",
              "\n",
              "[5 rows x 7 columns]"
            ]
          },
          "metadata": {},
          "execution_count": 4
        }
      ]
    },
    {
      "cell_type": "code",
      "source": [
        "df.shape"
      ],
      "metadata": {
        "colab": {
          "base_uri": "https://localhost:8080/"
        },
        "id": "Odzq08qMZmI3",
        "outputId": "35638f3e-f984-4463-b8da-4d054566bc39"
      },
      "execution_count": 5,
      "outputs": [
        {
          "output_type": "execute_result",
          "data": {
            "text/plain": [
              "(16590, 7)"
            ]
          },
          "metadata": {},
          "execution_count": 5
        }
      ]
    },
    {
      "cell_type": "code",
      "source": [
        "df.info()"
      ],
      "metadata": {
        "colab": {
          "base_uri": "https://localhost:8080/"
        },
        "id": "GVuLTgNxZocX",
        "outputId": "10874d5d-7982-4b42-b351-3574f71e98c6"
      },
      "execution_count": 6,
      "outputs": [
        {
          "output_type": "stream",
          "name": "stdout",
          "text": [
            "<class 'pandas.core.frame.DataFrame'>\n",
            "RangeIndex: 16590 entries, 0 to 16589\n",
            "Data columns (total 7 columns):\n",
            " #   Column     Non-Null Count  Dtype  \n",
            "---  ------     --------------  -----  \n",
            " 0   Date       16590 non-null  object \n",
            " 1   Open       16590 non-null  float64\n",
            " 2   High       16590 non-null  float64\n",
            " 3   Low        16590 non-null  float64\n",
            " 4   Close      16590 non-null  float64\n",
            " 5   Volume     16590 non-null  float64\n",
            " 6   Adj Close  16590 non-null  float64\n",
            "dtypes: float64(6), object(1)\n",
            "memory usage: 907.4+ KB\n"
          ]
        }
      ]
    },
    {
      "cell_type": "markdown",
      "source": [
        "Temos ao todo 16590 linhas presentes no arquivo, não havendo nenhum dado nulo para nenhuma das colunas.\n",
        "\n"
      ],
      "metadata": {
        "id": "2mEWA81RZyYx"
      }
    },
    {
      "cell_type": "markdown",
      "source": [
        "#### **Explorando melhor a coluna Date**\n",
        "\n",
        "A coluna `Date` se encontra no formato object, mas fim de facilitar sua manipulação, será convertida para o formato datetime."
      ],
      "metadata": {
        "id": "cvnG4yAucOm8"
      }
    },
    {
      "cell_type": "code",
      "source": [
        "df['Date'] = pd.to_datetime(df['Date'], format = \"%Y-%m-%d\")"
      ],
      "metadata": {
        "id": "Ck4DKLTNaIp0"
      },
      "execution_count": 7,
      "outputs": []
    },
    {
      "cell_type": "code",
      "source": [
        "df['Date'].dtype"
      ],
      "metadata": {
        "colab": {
          "base_uri": "https://localhost:8080/"
        },
        "id": "-lD6OZo5a7JU",
        "outputId": "9092a049-0b8c-49a2-e4e4-226c2ce84393"
      },
      "execution_count": 8,
      "outputs": [
        {
          "output_type": "execute_result",
          "data": {
            "text/plain": [
              "dtype('<M8[ns]')"
            ]
          },
          "metadata": {},
          "execution_count": 8
        }
      ]
    },
    {
      "cell_type": "code",
      "source": [
        "print(df['Date'].min())\n",
        "print(df['Date'].max())"
      ],
      "metadata": {
        "colab": {
          "base_uri": "https://localhost:8080/"
        },
        "id": "JFGJau14b1hf",
        "outputId": "b9f25204-5ab5-4b71-d66c-b7018226ca56"
      },
      "execution_count": 9,
      "outputs": [
        {
          "output_type": "stream",
          "name": "stdout",
          "text": [
            "1950-01-03 00:00:00\n",
            "2015-12-07 00:00:00\n"
          ]
        }
      ]
    },
    {
      "cell_type": "markdown",
      "source": [
        "Os registros disponíveis vão de 1950 a 2015. Com base nesta informação, os dados serão colocados em ordem crescente de tempo."
      ],
      "metadata": {
        "id": "usWxYsVCcboC"
      }
    },
    {
      "cell_type": "code",
      "source": [
        "df.sort_values('Date', ascending = True, inplace = True)"
      ],
      "metadata": {
        "id": "1P2vhrd5ctas"
      },
      "execution_count": 10,
      "outputs": []
    },
    {
      "cell_type": "code",
      "source": [
        "df.head()"
      ],
      "metadata": {
        "colab": {
          "base_uri": "https://localhost:8080/",
          "height": 206
        },
        "id": "VHZiQ-W2mkal",
        "outputId": "f632c82e-1f77-4ad1-eca5-7a018826d613"
      },
      "execution_count": 11,
      "outputs": [
        {
          "output_type": "execute_result",
          "data": {
            "text/html": [
              "\n",
              "  <div id=\"df-926b5d52-24e1-45c6-a1bb-6c228ae136b5\">\n",
              "    <div class=\"colab-df-container\">\n",
              "      <div>\n",
              "<style scoped>\n",
              "    .dataframe tbody tr th:only-of-type {\n",
              "        vertical-align: middle;\n",
              "    }\n",
              "\n",
              "    .dataframe tbody tr th {\n",
              "        vertical-align: top;\n",
              "    }\n",
              "\n",
              "    .dataframe thead th {\n",
              "        text-align: right;\n",
              "    }\n",
              "</style>\n",
              "<table border=\"1\" class=\"dataframe\">\n",
              "  <thead>\n",
              "    <tr style=\"text-align: right;\">\n",
              "      <th></th>\n",
              "      <th>Date</th>\n",
              "      <th>Open</th>\n",
              "      <th>High</th>\n",
              "      <th>Low</th>\n",
              "      <th>Close</th>\n",
              "      <th>Volume</th>\n",
              "      <th>Adj Close</th>\n",
              "    </tr>\n",
              "  </thead>\n",
              "  <tbody>\n",
              "    <tr>\n",
              "      <th>16589</th>\n",
              "      <td>1950-01-03</td>\n",
              "      <td>16.66</td>\n",
              "      <td>16.66</td>\n",
              "      <td>16.66</td>\n",
              "      <td>16.66</td>\n",
              "      <td>1260000.0</td>\n",
              "      <td>16.66</td>\n",
              "    </tr>\n",
              "    <tr>\n",
              "      <th>16588</th>\n",
              "      <td>1950-01-04</td>\n",
              "      <td>16.85</td>\n",
              "      <td>16.85</td>\n",
              "      <td>16.85</td>\n",
              "      <td>16.85</td>\n",
              "      <td>1890000.0</td>\n",
              "      <td>16.85</td>\n",
              "    </tr>\n",
              "    <tr>\n",
              "      <th>16587</th>\n",
              "      <td>1950-01-05</td>\n",
              "      <td>16.93</td>\n",
              "      <td>16.93</td>\n",
              "      <td>16.93</td>\n",
              "      <td>16.93</td>\n",
              "      <td>2550000.0</td>\n",
              "      <td>16.93</td>\n",
              "    </tr>\n",
              "    <tr>\n",
              "      <th>16586</th>\n",
              "      <td>1950-01-06</td>\n",
              "      <td>16.98</td>\n",
              "      <td>16.98</td>\n",
              "      <td>16.98</td>\n",
              "      <td>16.98</td>\n",
              "      <td>2010000.0</td>\n",
              "      <td>16.98</td>\n",
              "    </tr>\n",
              "    <tr>\n",
              "      <th>16585</th>\n",
              "      <td>1950-01-09</td>\n",
              "      <td>17.08</td>\n",
              "      <td>17.08</td>\n",
              "      <td>17.08</td>\n",
              "      <td>17.08</td>\n",
              "      <td>2520000.0</td>\n",
              "      <td>17.08</td>\n",
              "    </tr>\n",
              "  </tbody>\n",
              "</table>\n",
              "</div>\n",
              "      <button class=\"colab-df-convert\" onclick=\"convertToInteractive('df-926b5d52-24e1-45c6-a1bb-6c228ae136b5')\"\n",
              "              title=\"Convert this dataframe to an interactive table.\"\n",
              "              style=\"display:none;\">\n",
              "        \n",
              "  <svg xmlns=\"http://www.w3.org/2000/svg\" height=\"24px\"viewBox=\"0 0 24 24\"\n",
              "       width=\"24px\">\n",
              "    <path d=\"M0 0h24v24H0V0z\" fill=\"none\"/>\n",
              "    <path d=\"M18.56 5.44l.94 2.06.94-2.06 2.06-.94-2.06-.94-.94-2.06-.94 2.06-2.06.94zm-11 1L8.5 8.5l.94-2.06 2.06-.94-2.06-.94L8.5 2.5l-.94 2.06-2.06.94zm10 10l.94 2.06.94-2.06 2.06-.94-2.06-.94-.94-2.06-.94 2.06-2.06.94z\"/><path d=\"M17.41 7.96l-1.37-1.37c-.4-.4-.92-.59-1.43-.59-.52 0-1.04.2-1.43.59L10.3 9.45l-7.72 7.72c-.78.78-.78 2.05 0 2.83L4 21.41c.39.39.9.59 1.41.59.51 0 1.02-.2 1.41-.59l7.78-7.78 2.81-2.81c.8-.78.8-2.07 0-2.86zM5.41 20L4 18.59l7.72-7.72 1.47 1.35L5.41 20z\"/>\n",
              "  </svg>\n",
              "      </button>\n",
              "      \n",
              "  <style>\n",
              "    .colab-df-container {\n",
              "      display:flex;\n",
              "      flex-wrap:wrap;\n",
              "      gap: 12px;\n",
              "    }\n",
              "\n",
              "    .colab-df-convert {\n",
              "      background-color: #E8F0FE;\n",
              "      border: none;\n",
              "      border-radius: 50%;\n",
              "      cursor: pointer;\n",
              "      display: none;\n",
              "      fill: #1967D2;\n",
              "      height: 32px;\n",
              "      padding: 0 0 0 0;\n",
              "      width: 32px;\n",
              "    }\n",
              "\n",
              "    .colab-df-convert:hover {\n",
              "      background-color: #E2EBFA;\n",
              "      box-shadow: 0px 1px 2px rgba(60, 64, 67, 0.3), 0px 1px 3px 1px rgba(60, 64, 67, 0.15);\n",
              "      fill: #174EA6;\n",
              "    }\n",
              "\n",
              "    [theme=dark] .colab-df-convert {\n",
              "      background-color: #3B4455;\n",
              "      fill: #D2E3FC;\n",
              "    }\n",
              "\n",
              "    [theme=dark] .colab-df-convert:hover {\n",
              "      background-color: #434B5C;\n",
              "      box-shadow: 0px 1px 3px 1px rgba(0, 0, 0, 0.15);\n",
              "      filter: drop-shadow(0px 1px 2px rgba(0, 0, 0, 0.3));\n",
              "      fill: #FFFFFF;\n",
              "    }\n",
              "  </style>\n",
              "\n",
              "      <script>\n",
              "        const buttonEl =\n",
              "          document.querySelector('#df-926b5d52-24e1-45c6-a1bb-6c228ae136b5 button.colab-df-convert');\n",
              "        buttonEl.style.display =\n",
              "          google.colab.kernel.accessAllowed ? 'block' : 'none';\n",
              "\n",
              "        async function convertToInteractive(key) {\n",
              "          const element = document.querySelector('#df-926b5d52-24e1-45c6-a1bb-6c228ae136b5');\n",
              "          const dataTable =\n",
              "            await google.colab.kernel.invokeFunction('convertToInteractive',\n",
              "                                                     [key], {});\n",
              "          if (!dataTable) return;\n",
              "\n",
              "          const docLinkHtml = 'Like what you see? Visit the ' +\n",
              "            '<a target=\"_blank\" href=https://colab.research.google.com/notebooks/data_table.ipynb>data table notebook</a>'\n",
              "            + ' to learn more about interactive tables.';\n",
              "          element.innerHTML = '';\n",
              "          dataTable['output_type'] = 'display_data';\n",
              "          await google.colab.output.renderOutput(dataTable, element);\n",
              "          const docLink = document.createElement('div');\n",
              "          docLink.innerHTML = docLinkHtml;\n",
              "          element.appendChild(docLink);\n",
              "        }\n",
              "      </script>\n",
              "    </div>\n",
              "  </div>\n",
              "  "
            ],
            "text/plain": [
              "            Date   Open   High    Low  Close     Volume  Adj Close\n",
              "16589 1950-01-03  16.66  16.66  16.66  16.66  1260000.0      16.66\n",
              "16588 1950-01-04  16.85  16.85  16.85  16.85  1890000.0      16.85\n",
              "16587 1950-01-05  16.93  16.93  16.93  16.93  2550000.0      16.93\n",
              "16586 1950-01-06  16.98  16.98  16.98  16.98  2010000.0      16.98\n",
              "16585 1950-01-09  17.08  17.08  17.08  17.08  2520000.0      17.08"
            ]
          },
          "metadata": {},
          "execution_count": 11
        }
      ]
    },
    {
      "cell_type": "markdown",
      "source": [
        "## **Gerando Indicadores** 🔢"
      ],
      "metadata": {
        "id": "luBf9uM-khn1"
      }
    },
    {
      "cell_type": "markdown",
      "source": [
        "Por se tratar de um trabalho com dados sequenciais, torna-se interessante a criação de indicadores que levem em consideração algum tipo de histórico e aumentem a precisão do modelo que será desenvolvido.\n",
        "\n",
        "Uma das formas de se colocar esta estratégia em prática é criando colunas que registrem:\n",
        "- A média do preço do índice nos últimos 30 dias;\n",
        "- A média do preço do índice nos últimos 365 dias;\n",
        "- A razão entre a média do preço pelos últimos 30 dias e a média do preço pelos últimos 365 dias.\n",
        "\n",
        "Tendo em vista que os registros do conjunto de dados se iniciam em 1950-01-03, a criação de novos indicadores será feita a partir de 1951-01-03 e levando em consideração apenas os preços de fechamento."
      ],
      "metadata": {
        "id": "_6HWXo78koV5"
      }
    },
    {
      "cell_type": "code",
      "source": [
        "def indices(df, date, limit):\n",
        "\n",
        "  '''\n",
        "  - Função que calcula a média para os últimos 30 ou 365 dias;\n",
        "  - df: dataframe com base no qual o cálculo deve ser feito;\n",
        "  - date: data limite a partir da qual os valores de média serão gerados;\n",
        "  - limit: número de dias retroativos sobre o qual se deseja obter o valor da média.\n",
        "  '''\n",
        "\n",
        "  view = df.loc[df['Date'] < date, 'Close']\n",
        "  mean_limit = view.iloc[-(limit):].mean()\n",
        "  \n",
        "  return mean_limit"
      ],
      "metadata": {
        "id": "D2GYSq5HtJBH"
      },
      "execution_count": 12,
      "outputs": []
    },
    {
      "cell_type": "code",
      "source": [
        "# Criação da coluna para média de valores dos últimos 30 dias:\n",
        "df.loc[df['Date'] >= '1951-01-03', 'Day_30'] = df.loc[df['Date'] >= '1951-01-03', 'Date'].apply(lambda x: indices(df, x, 30))"
      ],
      "metadata": {
        "id": "lduyMc5W7E77"
      },
      "execution_count": 13,
      "outputs": []
    },
    {
      "cell_type": "code",
      "source": [
        "# # Criação da coluna para média de valores dos últimos 365 dias:\n",
        "df.loc[df['Date'] >= '1951-01-03', 'Day_365'] = df.loc[df['Date'] >= '1951-01-03', 'Date'].apply(lambda x: indices(df, x, 365))"
      ],
      "metadata": {
        "id": "NBH0Fg5S7diC"
      },
      "execution_count": 14,
      "outputs": []
    },
    {
      "cell_type": "code",
      "source": [
        "# Criação da coluna que contém a razão entre a média nos últimos 30 dias em relação aos últimos 365 dias:\n",
        "df['Ratio_30_365'] = df['Day_30']/df['Day_365']"
      ],
      "metadata": {
        "id": "UWKOyfWuxv7m"
      },
      "execution_count": 15,
      "outputs": []
    },
    {
      "cell_type": "code",
      "source": [
        "# Visualização dos valores calculados:\n",
        "df.loc[df['Date'] > '1950-12-28'].head(6)"
      ],
      "metadata": {
        "colab": {
          "base_uri": "https://localhost:8080/",
          "height": 238
        },
        "id": "iOaKX5vMwd4o",
        "outputId": "8c6dea01-7b28-4a10-c2f2-e3658a1a1b27"
      },
      "execution_count": 16,
      "outputs": [
        {
          "output_type": "execute_result",
          "data": {
            "text/html": [
              "\n",
              "  <div id=\"df-a77a72c7-4fc2-40f1-bbd4-23504cfdc4f5\">\n",
              "    <div class=\"colab-df-container\">\n",
              "      <div>\n",
              "<style scoped>\n",
              "    .dataframe tbody tr th:only-of-type {\n",
              "        vertical-align: middle;\n",
              "    }\n",
              "\n",
              "    .dataframe tbody tr th {\n",
              "        vertical-align: top;\n",
              "    }\n",
              "\n",
              "    .dataframe thead th {\n",
              "        text-align: right;\n",
              "    }\n",
              "</style>\n",
              "<table border=\"1\" class=\"dataframe\">\n",
              "  <thead>\n",
              "    <tr style=\"text-align: right;\">\n",
              "      <th></th>\n",
              "      <th>Date</th>\n",
              "      <th>Open</th>\n",
              "      <th>High</th>\n",
              "      <th>Low</th>\n",
              "      <th>Close</th>\n",
              "      <th>Volume</th>\n",
              "      <th>Adj Close</th>\n",
              "      <th>Day_30</th>\n",
              "      <th>Day_365</th>\n",
              "      <th>Ratio_30_365</th>\n",
              "    </tr>\n",
              "  </thead>\n",
              "  <tbody>\n",
              "    <tr>\n",
              "      <th>16341</th>\n",
              "      <td>1950-12-29</td>\n",
              "      <td>20.430000</td>\n",
              "      <td>20.430000</td>\n",
              "      <td>20.430000</td>\n",
              "      <td>20.430000</td>\n",
              "      <td>3440000.0</td>\n",
              "      <td>20.430000</td>\n",
              "      <td>NaN</td>\n",
              "      <td>NaN</td>\n",
              "      <td>NaN</td>\n",
              "    </tr>\n",
              "    <tr>\n",
              "      <th>16340</th>\n",
              "      <td>1951-01-02</td>\n",
              "      <td>20.770000</td>\n",
              "      <td>20.770000</td>\n",
              "      <td>20.770000</td>\n",
              "      <td>20.770000</td>\n",
              "      <td>3030000.0</td>\n",
              "      <td>20.770000</td>\n",
              "      <td>NaN</td>\n",
              "      <td>NaN</td>\n",
              "      <td>NaN</td>\n",
              "    </tr>\n",
              "    <tr>\n",
              "      <th>16339</th>\n",
              "      <td>1951-01-03</td>\n",
              "      <td>20.690001</td>\n",
              "      <td>20.690001</td>\n",
              "      <td>20.690001</td>\n",
              "      <td>20.690001</td>\n",
              "      <td>3370000.0</td>\n",
              "      <td>20.690001</td>\n",
              "      <td>19.815000</td>\n",
              "      <td>18.406760</td>\n",
              "      <td>1.076507</td>\n",
              "    </tr>\n",
              "    <tr>\n",
              "      <th>16338</th>\n",
              "      <td>1951-01-04</td>\n",
              "      <td>20.870001</td>\n",
              "      <td>20.870001</td>\n",
              "      <td>20.870001</td>\n",
              "      <td>20.870001</td>\n",
              "      <td>3390000.0</td>\n",
              "      <td>20.870001</td>\n",
              "      <td>19.842666</td>\n",
              "      <td>18.415857</td>\n",
              "      <td>1.077477</td>\n",
              "    </tr>\n",
              "    <tr>\n",
              "      <th>16337</th>\n",
              "      <td>1951-01-05</td>\n",
              "      <td>20.870001</td>\n",
              "      <td>20.870001</td>\n",
              "      <td>20.870001</td>\n",
              "      <td>20.870001</td>\n",
              "      <td>3390000.0</td>\n",
              "      <td>20.870001</td>\n",
              "      <td>19.874000</td>\n",
              "      <td>18.425595</td>\n",
              "      <td>1.078608</td>\n",
              "    </tr>\n",
              "    <tr>\n",
              "      <th>16336</th>\n",
              "      <td>1951-01-08</td>\n",
              "      <td>21.000000</td>\n",
              "      <td>21.000000</td>\n",
              "      <td>21.000000</td>\n",
              "      <td>21.000000</td>\n",
              "      <td>2780000.0</td>\n",
              "      <td>21.000000</td>\n",
              "      <td>19.907000</td>\n",
              "      <td>18.435257</td>\n",
              "      <td>1.079833</td>\n",
              "    </tr>\n",
              "  </tbody>\n",
              "</table>\n",
              "</div>\n",
              "      <button class=\"colab-df-convert\" onclick=\"convertToInteractive('df-a77a72c7-4fc2-40f1-bbd4-23504cfdc4f5')\"\n",
              "              title=\"Convert this dataframe to an interactive table.\"\n",
              "              style=\"display:none;\">\n",
              "        \n",
              "  <svg xmlns=\"http://www.w3.org/2000/svg\" height=\"24px\"viewBox=\"0 0 24 24\"\n",
              "       width=\"24px\">\n",
              "    <path d=\"M0 0h24v24H0V0z\" fill=\"none\"/>\n",
              "    <path d=\"M18.56 5.44l.94 2.06.94-2.06 2.06-.94-2.06-.94-.94-2.06-.94 2.06-2.06.94zm-11 1L8.5 8.5l.94-2.06 2.06-.94-2.06-.94L8.5 2.5l-.94 2.06-2.06.94zm10 10l.94 2.06.94-2.06 2.06-.94-2.06-.94-.94-2.06-.94 2.06-2.06.94z\"/><path d=\"M17.41 7.96l-1.37-1.37c-.4-.4-.92-.59-1.43-.59-.52 0-1.04.2-1.43.59L10.3 9.45l-7.72 7.72c-.78.78-.78 2.05 0 2.83L4 21.41c.39.39.9.59 1.41.59.51 0 1.02-.2 1.41-.59l7.78-7.78 2.81-2.81c.8-.78.8-2.07 0-2.86zM5.41 20L4 18.59l7.72-7.72 1.47 1.35L5.41 20z\"/>\n",
              "  </svg>\n",
              "      </button>\n",
              "      \n",
              "  <style>\n",
              "    .colab-df-container {\n",
              "      display:flex;\n",
              "      flex-wrap:wrap;\n",
              "      gap: 12px;\n",
              "    }\n",
              "\n",
              "    .colab-df-convert {\n",
              "      background-color: #E8F0FE;\n",
              "      border: none;\n",
              "      border-radius: 50%;\n",
              "      cursor: pointer;\n",
              "      display: none;\n",
              "      fill: #1967D2;\n",
              "      height: 32px;\n",
              "      padding: 0 0 0 0;\n",
              "      width: 32px;\n",
              "    }\n",
              "\n",
              "    .colab-df-convert:hover {\n",
              "      background-color: #E2EBFA;\n",
              "      box-shadow: 0px 1px 2px rgba(60, 64, 67, 0.3), 0px 1px 3px 1px rgba(60, 64, 67, 0.15);\n",
              "      fill: #174EA6;\n",
              "    }\n",
              "\n",
              "    [theme=dark] .colab-df-convert {\n",
              "      background-color: #3B4455;\n",
              "      fill: #D2E3FC;\n",
              "    }\n",
              "\n",
              "    [theme=dark] .colab-df-convert:hover {\n",
              "      background-color: #434B5C;\n",
              "      box-shadow: 0px 1px 3px 1px rgba(0, 0, 0, 0.15);\n",
              "      filter: drop-shadow(0px 1px 2px rgba(0, 0, 0, 0.3));\n",
              "      fill: #FFFFFF;\n",
              "    }\n",
              "  </style>\n",
              "\n",
              "      <script>\n",
              "        const buttonEl =\n",
              "          document.querySelector('#df-a77a72c7-4fc2-40f1-bbd4-23504cfdc4f5 button.colab-df-convert');\n",
              "        buttonEl.style.display =\n",
              "          google.colab.kernel.accessAllowed ? 'block' : 'none';\n",
              "\n",
              "        async function convertToInteractive(key) {\n",
              "          const element = document.querySelector('#df-a77a72c7-4fc2-40f1-bbd4-23504cfdc4f5');\n",
              "          const dataTable =\n",
              "            await google.colab.kernel.invokeFunction('convertToInteractive',\n",
              "                                                     [key], {});\n",
              "          if (!dataTable) return;\n",
              "\n",
              "          const docLinkHtml = 'Like what you see? Visit the ' +\n",
              "            '<a target=\"_blank\" href=https://colab.research.google.com/notebooks/data_table.ipynb>data table notebook</a>'\n",
              "            + ' to learn more about interactive tables.';\n",
              "          element.innerHTML = '';\n",
              "          dataTable['output_type'] = 'display_data';\n",
              "          await google.colab.output.renderOutput(dataTable, element);\n",
              "          const docLink = document.createElement('div');\n",
              "          docLink.innerHTML = docLinkHtml;\n",
              "          element.appendChild(docLink);\n",
              "        }\n",
              "      </script>\n",
              "    </div>\n",
              "  </div>\n",
              "  "
            ],
            "text/plain": [
              "            Date       Open       High  ...     Day_30    Day_365  Ratio_30_365\n",
              "16341 1950-12-29  20.430000  20.430000  ...        NaN        NaN           NaN\n",
              "16340 1951-01-02  20.770000  20.770000  ...        NaN        NaN           NaN\n",
              "16339 1951-01-03  20.690001  20.690001  ...  19.815000  18.406760      1.076507\n",
              "16338 1951-01-04  20.870001  20.870001  ...  19.842666  18.415857      1.077477\n",
              "16337 1951-01-05  20.870001  20.870001  ...  19.874000  18.425595      1.078608\n",
              "16336 1951-01-08  21.000000  21.000000  ...  19.907000  18.435257      1.079833\n",
              "\n",
              "[6 rows x 10 columns]"
            ]
          },
          "metadata": {},
          "execution_count": 16
        }
      ]
    },
    {
      "cell_type": "markdown",
      "source": [
        "Tendo em vista que os dados anteriores a 1951-01-03 não possuem informação prévia o suficiente para a geração de indicadores, eles serão descartados:"
      ],
      "metadata": {
        "id": "LgmbKlz274gk"
      }
    },
    {
      "cell_type": "code",
      "source": [
        "df.dropna(axis = 0, inplace = True)"
      ],
      "metadata": {
        "id": "2g-2MaK_8PDF"
      },
      "execution_count": 17,
      "outputs": []
    },
    {
      "cell_type": "code",
      "source": [
        "df.head()"
      ],
      "metadata": {
        "colab": {
          "base_uri": "https://localhost:8080/",
          "height": 206
        },
        "id": "NxcjZ7GH8Uo5",
        "outputId": "d72376c3-8cd3-4f23-a2a8-c6907fb9a220"
      },
      "execution_count": 18,
      "outputs": [
        {
          "output_type": "execute_result",
          "data": {
            "text/html": [
              "\n",
              "  <div id=\"df-0a8b8124-2b0b-4bdd-be69-66ad0cfc639b\">\n",
              "    <div class=\"colab-df-container\">\n",
              "      <div>\n",
              "<style scoped>\n",
              "    .dataframe tbody tr th:only-of-type {\n",
              "        vertical-align: middle;\n",
              "    }\n",
              "\n",
              "    .dataframe tbody tr th {\n",
              "        vertical-align: top;\n",
              "    }\n",
              "\n",
              "    .dataframe thead th {\n",
              "        text-align: right;\n",
              "    }\n",
              "</style>\n",
              "<table border=\"1\" class=\"dataframe\">\n",
              "  <thead>\n",
              "    <tr style=\"text-align: right;\">\n",
              "      <th></th>\n",
              "      <th>Date</th>\n",
              "      <th>Open</th>\n",
              "      <th>High</th>\n",
              "      <th>Low</th>\n",
              "      <th>Close</th>\n",
              "      <th>Volume</th>\n",
              "      <th>Adj Close</th>\n",
              "      <th>Day_30</th>\n",
              "      <th>Day_365</th>\n",
              "      <th>Ratio_30_365</th>\n",
              "    </tr>\n",
              "  </thead>\n",
              "  <tbody>\n",
              "    <tr>\n",
              "      <th>16339</th>\n",
              "      <td>1951-01-03</td>\n",
              "      <td>20.690001</td>\n",
              "      <td>20.690001</td>\n",
              "      <td>20.690001</td>\n",
              "      <td>20.690001</td>\n",
              "      <td>3370000.0</td>\n",
              "      <td>20.690001</td>\n",
              "      <td>19.815000</td>\n",
              "      <td>18.406760</td>\n",
              "      <td>1.076507</td>\n",
              "    </tr>\n",
              "    <tr>\n",
              "      <th>16338</th>\n",
              "      <td>1951-01-04</td>\n",
              "      <td>20.870001</td>\n",
              "      <td>20.870001</td>\n",
              "      <td>20.870001</td>\n",
              "      <td>20.870001</td>\n",
              "      <td>3390000.0</td>\n",
              "      <td>20.870001</td>\n",
              "      <td>19.842666</td>\n",
              "      <td>18.415857</td>\n",
              "      <td>1.077477</td>\n",
              "    </tr>\n",
              "    <tr>\n",
              "      <th>16337</th>\n",
              "      <td>1951-01-05</td>\n",
              "      <td>20.870001</td>\n",
              "      <td>20.870001</td>\n",
              "      <td>20.870001</td>\n",
              "      <td>20.870001</td>\n",
              "      <td>3390000.0</td>\n",
              "      <td>20.870001</td>\n",
              "      <td>19.874000</td>\n",
              "      <td>18.425595</td>\n",
              "      <td>1.078608</td>\n",
              "    </tr>\n",
              "    <tr>\n",
              "      <th>16336</th>\n",
              "      <td>1951-01-08</td>\n",
              "      <td>21.000000</td>\n",
              "      <td>21.000000</td>\n",
              "      <td>21.000000</td>\n",
              "      <td>21.000000</td>\n",
              "      <td>2780000.0</td>\n",
              "      <td>21.000000</td>\n",
              "      <td>19.907000</td>\n",
              "      <td>18.435257</td>\n",
              "      <td>1.079833</td>\n",
              "    </tr>\n",
              "    <tr>\n",
              "      <th>16335</th>\n",
              "      <td>1951-01-09</td>\n",
              "      <td>21.120001</td>\n",
              "      <td>21.120001</td>\n",
              "      <td>21.120001</td>\n",
              "      <td>21.120001</td>\n",
              "      <td>3800000.0</td>\n",
              "      <td>21.120001</td>\n",
              "      <td>19.935000</td>\n",
              "      <td>18.445354</td>\n",
              "      <td>1.080760</td>\n",
              "    </tr>\n",
              "  </tbody>\n",
              "</table>\n",
              "</div>\n",
              "      <button class=\"colab-df-convert\" onclick=\"convertToInteractive('df-0a8b8124-2b0b-4bdd-be69-66ad0cfc639b')\"\n",
              "              title=\"Convert this dataframe to an interactive table.\"\n",
              "              style=\"display:none;\">\n",
              "        \n",
              "  <svg xmlns=\"http://www.w3.org/2000/svg\" height=\"24px\"viewBox=\"0 0 24 24\"\n",
              "       width=\"24px\">\n",
              "    <path d=\"M0 0h24v24H0V0z\" fill=\"none\"/>\n",
              "    <path d=\"M18.56 5.44l.94 2.06.94-2.06 2.06-.94-2.06-.94-.94-2.06-.94 2.06-2.06.94zm-11 1L8.5 8.5l.94-2.06 2.06-.94-2.06-.94L8.5 2.5l-.94 2.06-2.06.94zm10 10l.94 2.06.94-2.06 2.06-.94-2.06-.94-.94-2.06-.94 2.06-2.06.94z\"/><path d=\"M17.41 7.96l-1.37-1.37c-.4-.4-.92-.59-1.43-.59-.52 0-1.04.2-1.43.59L10.3 9.45l-7.72 7.72c-.78.78-.78 2.05 0 2.83L4 21.41c.39.39.9.59 1.41.59.51 0 1.02-.2 1.41-.59l7.78-7.78 2.81-2.81c.8-.78.8-2.07 0-2.86zM5.41 20L4 18.59l7.72-7.72 1.47 1.35L5.41 20z\"/>\n",
              "  </svg>\n",
              "      </button>\n",
              "      \n",
              "  <style>\n",
              "    .colab-df-container {\n",
              "      display:flex;\n",
              "      flex-wrap:wrap;\n",
              "      gap: 12px;\n",
              "    }\n",
              "\n",
              "    .colab-df-convert {\n",
              "      background-color: #E8F0FE;\n",
              "      border: none;\n",
              "      border-radius: 50%;\n",
              "      cursor: pointer;\n",
              "      display: none;\n",
              "      fill: #1967D2;\n",
              "      height: 32px;\n",
              "      padding: 0 0 0 0;\n",
              "      width: 32px;\n",
              "    }\n",
              "\n",
              "    .colab-df-convert:hover {\n",
              "      background-color: #E2EBFA;\n",
              "      box-shadow: 0px 1px 2px rgba(60, 64, 67, 0.3), 0px 1px 3px 1px rgba(60, 64, 67, 0.15);\n",
              "      fill: #174EA6;\n",
              "    }\n",
              "\n",
              "    [theme=dark] .colab-df-convert {\n",
              "      background-color: #3B4455;\n",
              "      fill: #D2E3FC;\n",
              "    }\n",
              "\n",
              "    [theme=dark] .colab-df-convert:hover {\n",
              "      background-color: #434B5C;\n",
              "      box-shadow: 0px 1px 3px 1px rgba(0, 0, 0, 0.15);\n",
              "      filter: drop-shadow(0px 1px 2px rgba(0, 0, 0, 0.3));\n",
              "      fill: #FFFFFF;\n",
              "    }\n",
              "  </style>\n",
              "\n",
              "      <script>\n",
              "        const buttonEl =\n",
              "          document.querySelector('#df-0a8b8124-2b0b-4bdd-be69-66ad0cfc639b button.colab-df-convert');\n",
              "        buttonEl.style.display =\n",
              "          google.colab.kernel.accessAllowed ? 'block' : 'none';\n",
              "\n",
              "        async function convertToInteractive(key) {\n",
              "          const element = document.querySelector('#df-0a8b8124-2b0b-4bdd-be69-66ad0cfc639b');\n",
              "          const dataTable =\n",
              "            await google.colab.kernel.invokeFunction('convertToInteractive',\n",
              "                                                     [key], {});\n",
              "          if (!dataTable) return;\n",
              "\n",
              "          const docLinkHtml = 'Like what you see? Visit the ' +\n",
              "            '<a target=\"_blank\" href=https://colab.research.google.com/notebooks/data_table.ipynb>data table notebook</a>'\n",
              "            + ' to learn more about interactive tables.';\n",
              "          element.innerHTML = '';\n",
              "          dataTable['output_type'] = 'display_data';\n",
              "          await google.colab.output.renderOutput(dataTable, element);\n",
              "          const docLink = document.createElement('div');\n",
              "          docLink.innerHTML = docLinkHtml;\n",
              "          element.appendChild(docLink);\n",
              "        }\n",
              "      </script>\n",
              "    </div>\n",
              "  </div>\n",
              "  "
            ],
            "text/plain": [
              "            Date       Open       High  ...     Day_30    Day_365  Ratio_30_365\n",
              "16339 1951-01-03  20.690001  20.690001  ...  19.815000  18.406760      1.076507\n",
              "16338 1951-01-04  20.870001  20.870001  ...  19.842666  18.415857      1.077477\n",
              "16337 1951-01-05  20.870001  20.870001  ...  19.874000  18.425595      1.078608\n",
              "16336 1951-01-08  21.000000  21.000000  ...  19.907000  18.435257      1.079833\n",
              "16335 1951-01-09  21.120001  21.120001  ...  19.935000  18.445354      1.080760\n",
              "\n",
              "[5 rows x 10 columns]"
            ]
          },
          "metadata": {},
          "execution_count": 18
        }
      ]
    },
    {
      "cell_type": "markdown",
      "source": [
        "## **Gerando os Conjuntos de Treino e Teste** ✂️"
      ],
      "metadata": {
        "id": "lRERgp_5817Y"
      }
    },
    {
      "cell_type": "markdown",
      "source": [
        "Para este projeto, o conjunto de treino para o modelo será composto por dados que se concentram entre 1951 e 2013. Já o conjunto de teste, levará em conta dados que vão de 2013 em diante."
      ],
      "metadata": {
        "id": "zqAfhpsR87MB"
      }
    },
    {
      "cell_type": "code",
      "source": [
        "train = df.loc[df['Date'] < '2013', :]\n",
        "test = df.loc[df['Date'] >= '2013', :]"
      ],
      "metadata": {
        "id": "zeQTBYRv9Qi7"
      },
      "execution_count": 19,
      "outputs": []
    },
    {
      "cell_type": "code",
      "source": [
        "print(train['Date'].min(), train['Date'].max())\n",
        "print(test['Date'].min(), test['Date'].max())"
      ],
      "metadata": {
        "colab": {
          "base_uri": "https://localhost:8080/"
        },
        "id": "RCaZjnNo9h5K",
        "outputId": "4cd1b2ea-6087-4c07-a357-46b571df6a20"
      },
      "execution_count": 20,
      "outputs": [
        {
          "output_type": "stream",
          "name": "stdout",
          "text": [
            "1951-01-03 00:00:00 2012-12-31 00:00:00\n",
            "2013-01-02 00:00:00 2015-12-07 00:00:00\n"
          ]
        }
      ]
    },
    {
      "cell_type": "markdown",
      "source": [
        "## **Gerando Modelos Lineares para a Previsão de Preços** 🔮"
      ],
      "metadata": {
        "id": "KlIJyIze94tr"
      }
    },
    {
      "cell_type": "markdown",
      "source": [
        "Utilizando-se inicialmente um algoritmo de **regressão linear**, serão propostos diferentes modelos para previsão dos preços do índice S&P500 entre os anos de 2013 e 2015.\n",
        "\n",
        "Os modelos serão avaliados e comparados entre si, levando em consideração as seguintes métricas de erro:\n",
        "- *MSE (mean-squared-error)* - para verificar a variação dos dados previstos em relação aos dados reais e comparar o desempenho de diferentes configurações de modelo linear;\n",
        "- *R-Squared (coefficient of determination)* - para avaliar a variação dos dados reais em relação ao modelo de forma percentual, levando em consideração a variação explicada diante da variação total."
      ],
      "metadata": {
        "id": "M7b-Oz6O-Bdu"
      }
    },
    {
      "cell_type": "markdown",
      "source": [
        "### **1º Modelo: Utilizando-se apenas os indicadores como features**"
      ],
      "metadata": {
        "id": "Ni2v3eNyAk3R"
      }
    },
    {
      "cell_type": "code",
      "source": [
        "model_1 = LinearRegression()\n",
        "model_1.fit(train[['Day_30','Day_365','Ratio_30_365']], train['Close'])\n",
        "predictions = model_1.predict(test[['Day_30','Day_365','Ratio_30_365']])\n",
        "mse_1 = mean_squared_error(test['Close'], predictions)\n",
        "r2_1 = r2_score(test['Close'], predictions)\n",
        "print(f'mse_1: {mse_1}')\n",
        "print(f'r2_1: {r2_1}')"
      ],
      "metadata": {
        "colab": {
          "base_uri": "https://localhost:8080/"
        },
        "id": "R20KCvyLAsXl",
        "outputId": "3e87e347-240d-488a-b0bc-754fb5ebb416"
      },
      "execution_count": 21,
      "outputs": [
        {
          "output_type": "stream",
          "name": "stdout",
          "text": [
            "mse_1: 1559.317837972119\n",
            "r2_1: 0.9578146179078743\n"
          ]
        }
      ]
    },
    {
      "cell_type": "markdown",
      "source": [
        "###**2º Modelo: Deixando os indicadores de fora e usando apenas o valor de abertura como feature**"
      ],
      "metadata": {
        "id": "rvsZLOSJCkPO"
      }
    },
    {
      "cell_type": "markdown",
      "source": [
        "Nesta configuração utilizaremos o valor do índice quando da abertura do mercado para negociações (`Open`) a fim de prever o valor de fechamento (`Close`)."
      ],
      "metadata": {
        "id": "FTCw4bogPnOf"
      }
    },
    {
      "cell_type": "code",
      "source": [
        "model_2 = LinearRegression()\n",
        "model_2.fit(train[['Open']], train['Close'])\n",
        "predictions = model_2.predict(test[['Open']])\n",
        "mse_2 = mean_squared_error(test['Close'], predictions)\n",
        "r2_2 = r2_score(test['Close'], predictions)\n",
        "print(f'mse_2: {mse_2}')\n",
        "print(f'r2_2: {r2_2}')"
      ],
      "metadata": {
        "colab": {
          "base_uri": "https://localhost:8080/"
        },
        "id": "wCXd4zrXCxBC",
        "outputId": "15f5f1aa-43cd-4ac1-d1d1-9cf3c5f1ec1f"
      },
      "execution_count": 22,
      "outputs": [
        {
          "output_type": "stream",
          "name": "stdout",
          "text": [
            "mse_2: 202.92515431289127\n",
            "r2_2: 0.9945101152809708\n"
          ]
        }
      ]
    },
    {
      "cell_type": "markdown",
      "source": [
        "###**3º Modelo: Combinando os indicadores e o valor de abertura como features**"
      ],
      "metadata": {
        "id": "p21GgHEB__yv"
      }
    },
    {
      "cell_type": "code",
      "source": [
        "model_3 = LinearRegression()\n",
        "model_3.fit(train[['Open','Day_30','Day_365','Ratio_30_365']], train['Close'])\n",
        "predictions = model_3.predict(test[['Open','Day_30','Day_365','Ratio_30_365']])\n",
        "mse_3 = mean_squared_error(test['Close'], predictions)\n",
        "r2_3 = r2_score(test['Close'], predictions)\n",
        "print(f'mse_3: {mse_3}')\n",
        "print(f'r2_3: {r2_3}')"
      ],
      "metadata": {
        "colab": {
          "base_uri": "https://localhost:8080/"
        },
        "id": "J_jXDfw2AAKM",
        "outputId": "4845b1be-4486-4619-d2a5-a07be24525df"
      },
      "execution_count": 27,
      "outputs": [
        {
          "output_type": "stream",
          "name": "stdout",
          "text": [
            "mse_3: 202.37981466636745\n",
            "r2_3: 0.994524868758933\n"
          ]
        }
      ]
    },
    {
      "cell_type": "markdown",
      "source": [
        "#### **Conclusões:**\n",
        "\n",
        "Tendo em vista as diferentes configurações de modelos lineares testadas, pode-se afirmar que aquela que combinou as seguintes features, foi a que retornou resultados mais precisos para o valor do índice S&P500 quando do fechamento do mercado para negociações:\n",
        "- Valor do índice quando da abertura do mercado (`Open`)\n",
        "- Média dos valores do índice para os últimos 30 dias (`Day_30`)\n",
        "- Média dos valores do índice para os últimos 365 dias (`Day_365`)\n",
        "- Razão entre as médias dos para os últimos 30 dias e para os últimos 365 dias (`Ratio_30_365`).\n",
        "\n",
        "Podemos utilizar esta combinação de features que trouxe melhores resultados para testarmos em um outro tipo de modelo: árvores de decisão."
      ],
      "metadata": {
        "id": "Xw74dIOhA_lf"
      }
    },
    {
      "cell_type": "markdown",
      "source": [
        "### **4º modelo: Utilizando-se o algoritmo de árvore de decisão tendo como features os indicadores**"
      ],
      "metadata": {
        "id": "9MNHV_dSFjsv"
      }
    },
    {
      "cell_type": "code",
      "source": [
        "model_4 = DecisionTreeRegressor(max_depth = 5)\n",
        "model_4.fit(train[['Open','Day_30','Day_365','Ratio_30_365']], train['Close'])\n",
        "predictions = model_4.predict(test[['Open','Day_30','Day_365','Ratio_30_365']])\n",
        "mse_4 = mean_squared_error(test['Close'], predictions)\n",
        "print(f'mse_4: {mse_4}')"
      ],
      "metadata": {
        "colab": {
          "base_uri": "https://localhost:8080/"
        },
        "id": "x9vZ9SnkFjCq",
        "outputId": "755f21cf-7b0d-442a-fc01-7943ffd18c13"
      },
      "execution_count": 26,
      "outputs": [
        {
          "output_type": "stream",
          "name": "stdout",
          "text": [
            "mse_4: 169976.91675445312\n"
          ]
        }
      ]
    },
    {
      "cell_type": "markdown",
      "source": [
        "#### **Conclusões:**\n",
        "\n",
        "Pelo valor de MSE, pode-se confirmar que o aumento da complexidade do modelo não resulta de forma positiva na previsão dos dados e que o uso de um modelo \"mais simples\" para este caso, pode ser mais vantajosa."
      ],
      "metadata": {
        "id": "QKiG6inLHGVC"
      }
    },
    {
      "cell_type": "markdown",
      "source": [
        "## **Visualizando-se de Forma Gráfica a Previsão de Preços** 📉"
      ],
      "metadata": {
        "id": "Qsk8p4tKHY9-"
      }
    },
    {
      "cell_type": "code",
      "source": [
        "print(model_3.intercept_)\n",
        "print(model_3.coef_)"
      ],
      "metadata": {
        "colab": {
          "base_uri": "https://localhost:8080/"
        },
        "id": "admL1LCqNuk8",
        "outputId": "dfd7e795-2bf3-4e29-ee50-5edefebe6c37"
      },
      "execution_count": 28,
      "outputs": [
        {
          "output_type": "stream",
          "name": "stdout",
          "text": [
            "0.48101629679337066\n",
            "[ 0.98251712  0.01957268 -0.00208371 -0.37668686]\n"
          ]
        }
      ]
    },
    {
      "cell_type": "code",
      "source": [
        "x_1 = test['Open']\n",
        "x_2 = test['Day_30']\n",
        "x_3 = test['Day_365']\n",
        "x_4 = test['Ratio_30_365']\n",
        "\n",
        "linear = 0.48101629679337066 + 0.98251712 * x_1 + 0.01957268 * x_2 - 0.00208371 * x_3 - 0.37668686 * x_4 "
      ],
      "metadata": {
        "id": "FeybAa5IN7Rn"
      },
      "execution_count": 31,
      "outputs": []
    },
    {
      "cell_type": "code",
      "source": [
        "fig, ax = plt.subplots(figsize = (12,5))\n",
        "ax.scatter(test['Date'], test['Close'], color = '#6C757D', alpha = 0.5)\n",
        "ax.plot(test['Date'], linear, color = '#03045E', linewidth = 1.5)\n",
        "ax.tick_params(left = False, bottom = False)\n",
        "ax.tick_params(axis = 'x', colors = '#6C757D', labelsize = 11)\n",
        "ax.tick_params(axis = 'y', colors = '#6C757D', labelsize = 11)\n",
        "ax.grid(color = 'grey', alpha = 0.4)\n",
        "\n",
        "for location in ['left', 'right','top','bottom']:\n",
        "  ax.spines[location].set_visible(False)\n",
        "\n",
        "ax.text(dt.datetime(2012,9,10), 2253, 'S&P500 ', size = 16, weight = 'bold')\n",
        "ax.text(dt.datetime(2013,1,20), 2253, 'Predicted ', size = 16, weight = 'bold', color = '#03045E')\n",
        "ax.text(dt.datetime(2013,7,2), 2253, 'and ', size = 16, weight = 'bold')\n",
        "ax.text(dt.datetime(2013,9,10), 2253, 'Real ', size = 16, weight = 'bold', color = '#6C757D')\n",
        "ax.text(dt.datetime(2013,11,28), 2253, 'Prices', size = 16, weight = 'bold')\n",
        "ax.text(dt.datetime(2012,9,10), 2210, 'Analysis between 2013 and 2015', size = 14);"
      ],
      "metadata": {
        "colab": {
          "base_uri": "https://localhost:8080/",
          "height": 362
        },
        "id": "J8LL3b-zVXOn",
        "outputId": "185afaa7-16e4-41b5-a073-ba00c095050b"
      },
      "execution_count": 32,
      "outputs": [
        {
          "output_type": "display_data",
          "data": {
            "image/png": "[encoded data removed]",
            "text/plain": [
              "<Figure size 864x360 with 1 Axes>"
            ]
          },
          "metadata": {
            "needs_background": "light"
          }
        }
      ]
    },
    {
      "cell_type": "markdown",
      "source": [
        "## **Conclusões Gerais** 👓"
      ],
      "metadata": {
        "id": "o2PNZkfJd-QT"
      }
    },
    {
      "cell_type": "markdown",
      "source": [
        "Pode-se concluir que o modelo linear em questão está lidando com dados que possuem uma variação muito baixa, sendo as previsões a respeito de preços facilmente feitas.\n",
        "\n",
        "Para exemplificar se o modelo poderia ter alguma dificuldade em prever preços diante de acontecimentos esporádicos, experimentou-se treiná-lo com um conjunto de dados anterior a 2007, para a previsão de preços do índice S&P500 nos anos de 2007 e 2008, lembrados pela [crise da bolha imobiliária](https://brasil.elpais.com/brasil/2017/08/05/economia/1501927439_342599.html)."
      ],
      "metadata": {
        "id": "f-y1na1nQSBI"
      }
    },
    {
      "cell_type": "code",
      "source": [
        "train = df.loc[df['Date'] <= '2006-12-31', :]\n",
        "test = df.loc[(df['Date'] >= '2007-01-01') & (df['Date'] <= '2008-12-31'), :]"
      ],
      "metadata": {
        "id": "x0Gbxb9LMvFH"
      },
      "execution_count": 33,
      "outputs": []
    },
    {
      "cell_type": "code",
      "source": [
        "model_5 = LinearRegression()\n",
        "model_5.fit(train[['Open','Day_30','Day_365','Ratio_30_365']], train['Close'])\n",
        "predictions = model_5.predict(test[['Open','Day_30','Day_365','Ratio_30_365']])\n",
        "mse_5 = mean_squared_error(test['Close'], predictions)\n",
        "r2_5 = r2_score(test['Close'], predictions)\n",
        "print(f'mse_5: {mse_5}')\n",
        "print(f'r2_5: {r2_5}')"
      ],
      "metadata": {
        "colab": {
          "base_uri": "https://localhost:8080/"
        },
        "id": "Opq3llm4MukP",
        "outputId": "b032db88-1b70-4452-9af6-02cfcb3dde4d"
      },
      "execution_count": 34,
      "outputs": [
        {
          "output_type": "stream",
          "name": "stdout",
          "text": [
            "mse_5: 432.06805881762307\n",
            "r2_5: 0.9879473945800061\n"
          ]
        }
      ]
    },
    {
      "cell_type": "markdown",
      "source": [
        "Apesar do MSE bem maior - o que indica maiores desvios entre os dados reais e aqueles previstos - o modelo ainda se manteve preciso em suas previsões, uma vez que até mesmo para o dia 17 de setembro de 2007, no auge da crise, foram registradas poucas variações de preço para o índice entre a abertura e fechamento do mercado de ações:"
      ],
      "metadata": {
        "id": "LDpNLsJ1Sjb0"
      }
    },
    {
      "cell_type": "code",
      "source": [
        "test.loc[2071]"
      ],
      "metadata": {
        "colab": {
          "base_uri": "https://localhost:8080/"
        },
        "id": "8ZurOROOPH9i",
        "outputId": "d9823331-1320-47d0-91c2-e16dd2f727d6"
      },
      "execution_count": 35,
      "outputs": [
        {
          "output_type": "execute_result",
          "data": {
            "text/plain": [
              "Date            2007-09-17 00:00:00\n",
              "Open                        1484.24\n",
              "High                        1484.24\n",
              "Low                         1471.82\n",
              "Close                       1476.65\n",
              "Volume                  2.59839e+09\n",
              "Adj Close                   1476.65\n",
              "Day_30                      1459.16\n",
              "Day_365                      1391.5\n",
              "Ratio_30_365                1.04863\n",
              "Name: 2071, dtype: object"
            ]
          },
          "metadata": {},
          "execution_count": 35
        }
      ]
    },
    {
      "cell_type": "markdown",
      "source": [
        "Pode-se concluir que pelo fato de o modelo levar em consideração os dados disponibilizados para um determinado dia, de forma bastante específica, as previsões acabam sendo bastante próximas da realidade, o que é ainda potencializado pelo uso de uma **equação linear** para obtenção dos valores de previsão."
      ],
      "metadata": {
        "id": "WOGdZzwETMM2"
      }
    }
  ]
}